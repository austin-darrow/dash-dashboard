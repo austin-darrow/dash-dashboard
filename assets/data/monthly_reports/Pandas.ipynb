{
 "cells": [
  {
   "cell_type": "code",
   "execution_count": 1,
   "id": "5178c4d2",
   "metadata": {},
   "outputs": [],
   "source": [
    "import pandas as pd"
   ]
  },
  {
   "cell_type": "code",
   "execution_count": 2,
   "id": "7f9c4fa4",
   "metadata": {},
   "outputs": [],
   "source": [
    "workbook = pd.read_excel('/Users/taccstaff/repos/dash-dashboard/assets/data/monthly_reports/utrc_report_2022-08-01_to_2022-09-01.xlsx', ['utrc_individual_user_hpc_usage', 'utrc_new_users', 'utrc_idle_users', 'utrc_suspended_users'])"
   ]
  },
  {
   "cell_type": "code",
   "execution_count": 3,
   "id": "545b974e",
   "metadata": {},
   "outputs": [],
   "source": [
    "INSTITUTIONS = {\n",
    "    'University of Texas at Austin': 'UTAus',\n",
    "    'University of Texas - Austin': 'UTAus',\n",
    "    'University of Texas, Austin': 'UTAus',\n",
    "    'The University of Texas at Austin': 'UTAus',\n",
    "    'The University of Texas Austin': 'UTAus',\n",
    "    'Dell Medical School, University of Texas at Austin': 'UTAus',\n",
    "    'University of Texas at Arlington': 'UTA',\n",
    "    'University of Texas Arlington': 'UTA',\n",
    "    'The University of Texas at Arlington': 'UTA',\n",
    "    'University of Texas at Dallas': 'UTD',\n",
    "    'The University of Texas at Dallas': 'UTD',\n",
    "    'University of Texas at El Paso': 'UTEP',\n",
    "    'The University of Texas at El paso': 'UTEP',\n",
    "    'University of Texas, El Paso': 'UTEP',\n",
    "    'University of Texas of the Permian Basin': 'UTPB',\n",
    "    'University of Texas Rio Grande Valley': 'UTRGV',\n",
    "    'The University of Texas - Rio Grande Valley': 'UTRGV',\n",
    "    'The University of Texas Rio Grande Valley': 'UTRGV',\n",
    "    'University of Texas - Rio Grande Valley': 'UTRGV',\n",
    "    'University of Texas at San Antonio': 'UTSA',\n",
    "    'The University of Texas at San Antonio': 'UTSA',\n",
    "    'University of Texas at Tyler': 'UTT',\n",
    "    'University of Texas Health Science Center at Houston': 'UTHSC-H',\n",
    "    'The University of Texas Health Science Center at Houston': 'UTHSC-H',\n",
    "    'University of Texas, Houston': 'UTHSC-H',\n",
    "    'University of Texas Health Science Center at San Antonio': 'UTHSC-SA',\n",
    "    'University of Texas Health Science Center, San Antonio': 'UTHSC-SA',\n",
    "    'University of Texas Health Science Center in San Antonio': 'UTHSC-SA',\n",
    "    'University of Texas Health Science Center at Tyler': 'UTT',\n",
    "    'University of Texas Medical Branch': 'UTMB',\n",
    "    'University of Texas M. D. Anderson Cancer Center': 'UTMDA',\n",
    "    'University of Texas MD Anderson Cancer Center': 'UTMDA',\n",
    "    'The University of Texas MD Anderson Cancer Center': 'UTMDA',\n",
    "    'University of Texas Southwestern Medical Center': 'UTSW',\n",
    "    'University of Texas at Brownsville': 'UTRGV',\n",
    "    'University of Texas Pan-American': 'UTRGV',\n",
    "    'University of Texas System': 'UTSYS',\n",
    "    'University of Texas System Administration': 'UTSYS',\n",
    "    'The University of Texas System Administration': 'UTSYS',\n",
    "    'University of Texas at Arlington (UTA) (UT Arlington)': 'UTA',\n",
    "    'University of Texas at Austin (UT) (UT Austin)': 'UTAus',\n",
    "    'University of Texas at Austin Dell Medical School': 'UTAus',\n",
    "    'University of Texas at Dallas (UTD) (UT Dallas)': 'UTD',\n",
    "    'University of Texas at El Paso (UTEP)': 'UTEP',\n",
    "    'University of Texas at San Antonio': 'UTSA',\n",
    "    'University of Texas Health Science Center at Houston': 'UTHSC-H',\n",
    "    'University of Texas Health Science Center at San Antonio': 'UTHSC-SA',\n",
    "    'University of Texas Health Science Center at Tyler': 'UTT',\n",
    "    'University of Texas MD Anderson Cancer Center': 'UTMDA',\n",
    "    'University of Texas Medical Branch at Galveston': 'UTMB',\n",
    "    'University of Texas Permian Basin': 'UTPB',\n",
    "    'University of Texas Rio Grande Valley': 'UTRGV',\n",
    "    'University of Texas Southwestern Medical Center (UTSW) (UT Southwestern)': 'UTSW',\n",
    "    'University of Texas System': 'UTSYS',\n",
    "    'University of Texas Tyler': 'UTT',\n",
    "}"
   ]
  },
  {
   "cell_type": "code",
   "execution_count": 4,
   "id": "bb6e0b54",
   "metadata": {},
   "outputs": [],
   "source": [
    "df = workbook['utrc_individual_user_hpc_usage']\n",
    "for i in range(len(df)):\n",
    "        df.loc[i, \"root_institution_name\"] = INSTITUTIONS[df.loc[i, \"root_institution_name\"]]"
   ]
  },
  {
   "cell_type": "code",
   "execution_count": 5,
   "id": "affd6146",
   "metadata": {},
   "outputs": [],
   "source": [
    "months = ['Jan', 'Feb', 'Mar', 'Apr', 'May', 'June', 'July', 'Aug', 'Sep', 'Oct', 'Nov', 'Dec']\n",
    "count = 0\n",
    "for i in range(df.shape[0]):\n",
    "    df.loc[i, 'date'] = months[count]\n",
    "    count += 1\n",
    "    if count == 12:\n",
    "        count = 0"
   ]
  },
  {
   "cell_type": "code",
   "execution_count": 6,
   "id": "4a88286a",
   "metadata": {},
   "outputs": [],
   "source": [
    "df.sort_index(inplace=True)"
   ]
  },
  {
   "cell_type": "code",
   "execution_count": 7,
   "id": "c53525e1",
   "metadata": {},
   "outputs": [],
   "source": [
    "inst_grps = df.groupby(['root_institution_name'])"
   ]
  },
  {
   "cell_type": "code",
   "execution_count": 39,
   "id": "24d7f2cd",
   "metadata": {},
   "outputs": [
    {
     "data": {
      "text/plain": [
       "67.41666666666667"
      ]
     },
     "execution_count": 39,
     "metadata": {},
     "output_type": "execute_result"
    }
   ],
   "source": [
    "inst_grps.get_group('UTAus')['date'].value_counts().mean()"
   ]
  },
  {
   "cell_type": "code",
   "execution_count": 56,
   "id": "f4110844",
   "metadata": {},
   "outputs": [
    {
     "data": {
      "text/plain": [
       "nan"
      ]
     },
     "execution_count": 56,
     "metadata": {},
     "output_type": "execute_result"
    }
   ],
   "source": []
  },
  {
   "cell_type": "code",
   "execution_count": null,
   "id": "67a7fc32",
   "metadata": {},
   "outputs": [],
   "source": []
  }
 ],
 "metadata": {
  "kernelspec": {
   "display_name": "Python 3 (ipykernel)",
   "language": "python",
   "name": "python3"
  },
  "language_info": {
   "codemirror_mode": {
    "name": "ipython",
    "version": 3
   },
   "file_extension": ".py",
   "mimetype": "text/x-python",
   "name": "python",
   "nbconvert_exporter": "python",
   "pygments_lexer": "ipython3",
   "version": "3.9.6"
  }
 },
 "nbformat": 4,
 "nbformat_minor": 5
}

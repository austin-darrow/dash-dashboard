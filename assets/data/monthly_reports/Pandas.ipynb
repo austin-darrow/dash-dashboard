{
 "cells": [
  {
   "cell_type": "code",
   "execution_count": 2,
   "metadata": {},
   "outputs": [
    {
     "ename": "ModuleNotFoundError",
     "evalue": "No module named 'pandas'",
     "output_type": "error",
     "traceback": [
      "\u001b[0;31m---------------------------------------------------------------------------\u001b[0m",
      "\u001b[0;31mModuleNotFoundError\u001b[0m                       Traceback (most recent call last)",
      "\u001b[0;32m<ipython-input-2-7dd3504c366f>\u001b[0m in \u001b[0;36m<module>\u001b[0;34m\u001b[0m\n\u001b[0;32m----> 1\u001b[0;31m \u001b[0;32mimport\u001b[0m \u001b[0mpandas\u001b[0m \u001b[0;32mas\u001b[0m \u001b[0mpd\u001b[0m\u001b[0;34m\u001b[0m\u001b[0;34m\u001b[0m\u001b[0m\n\u001b[0m",
      "\u001b[0;31mModuleNotFoundError\u001b[0m: No module named 'pandas'"
     ]
    }
   ],
   "source": [
    "import pandas as pd"
   ]
  },
  {
   "cell_type": "code",
   "execution_count": 1,
   "metadata": {},
   "outputs": [
    {
     "ename": "NameError",
     "evalue": "name 'pd' is not defined",
     "output_type": "error",
     "traceback": [
      "\u001b[0;31m---------------------------------------------------------------------------\u001b[0m",
      "\u001b[0;31mNameError\u001b[0m                                 Traceback (most recent call last)",
      "\u001b[0;32m<ipython-input-1-2682de8f6fd5>\u001b[0m in \u001b[0;36m<module>\u001b[0;34m\u001b[0m\n\u001b[0;32m----> 1\u001b[0;31m \u001b[0mworkbook\u001b[0m \u001b[0;34m=\u001b[0m \u001b[0mpd\u001b[0m\u001b[0;34m.\u001b[0m\u001b[0mread_excel\u001b[0m\u001b[0;34m(\u001b[0m\u001b[0;34m'/Users/taccstaff/repos/dash-dashboard/assets/data/monthly_reports/utrc_report_2022-08-01_to_2022-09-01.xlsx'\u001b[0m\u001b[0;34m)\u001b[0m\u001b[0;34m\u001b[0m\u001b[0;34m\u001b[0m\u001b[0m\n\u001b[0m",
      "\u001b[0;31mNameError\u001b[0m: name 'pd' is not defined"
     ]
    }
   ],
   "source": [
    "workbook = pd.read_excel('/Users/taccstaff/repos/dash-dashboard/assets/data/monthly_reports/utrc_report_2022-08-01_to_2022-09-01.xlsx')"
   ]
  },
  {
   "cell_type": "code",
   "execution_count": 3,
   "metadata": {},
   "outputs": [],
   "source": [
    "INSTITUTIONS = {\n",
    "    'University of Texas at Austin': 'UTAus',\n",
    "    'University of Texas - Austin': 'UTAus',\n",
    "    'University of Texas, Austin': 'UTAus',\n",
    "    'The University of Texas at Austin': 'UTAus',\n",
    "    'The University of Texas Austin': 'UTAus',\n",
    "    'Dell Medical School, University of Texas at Austin': 'UTAus',\n",
    "    'University of Texas at Arlington': 'UTA',\n",
    "    'University of Texas Arlington': 'UTA',\n",
    "    'The University of Texas at Arlington': 'UTA',\n",
    "    'University of Texas at Dallas': 'UTD',\n",
    "    'The University of Texas at Dallas': 'UTD',\n",
    "    'University of Texas at El Paso': 'UTEP',\n",
    "    'The University of Texas at El paso': 'UTEP',\n",
    "    'University of Texas, El Paso': 'UTEP',\n",
    "    'University of Texas of the Permian Basin': 'UTPB',\n",
    "    'University of Texas Rio Grande Valley': 'UTRGV',\n",
    "    'The University of Texas - Rio Grande Valley': 'UTRGV',\n",
    "    'The University of Texas Rio Grande Valley': 'UTRGV',\n",
    "    'University of Texas - Rio Grande Valley': 'UTRGV',\n",
    "    'University of Texas at San Antonio': 'UTSA',\n",
    "    'The University of Texas at San Antonio': 'UTSA',\n",
    "    'University of Texas at Tyler': 'UTT',\n",
    "    'University of Texas Health Science Center at Houston': 'UTHSC-H',\n",
    "    'The University of Texas Health Science Center at Houston': 'UTHSC-H',\n",
    "    'University of Texas, Houston': 'UTHSC-H',\n",
    "    'University of Texas Health Science Center at San Antonio': 'UTHSC-SA',\n",
    "    'University of Texas Health Science Center, San Antonio': 'UTHSC-SA',\n",
    "    'University of Texas Health Science Center in San Antonio': 'UTHSC-SA',\n",
    "    'University of Texas Health Science Center at Tyler': 'UTT',\n",
    "    'University of Texas Medical Branch': 'UTMB',\n",
    "    'University of Texas M. D. Anderson Cancer Center': 'UTMDA',\n",
    "    'University of Texas MD Anderson Cancer Center': 'UTMDA',\n",
    "    'The University of Texas MD Anderson Cancer Center': 'UTMDA',\n",
    "    'University of Texas Southwestern Medical Center': 'UTSW',\n",
    "    'University of Texas at Brownsville': 'UTRGV',\n",
    "    'University of Texas Pan-American': 'UTRGV',\n",
    "    'University of Texas System': 'UTSYS',\n",
    "    'University of Texas System Administration': 'UTSYS',\n",
    "    'The University of Texas System Administration': 'UTSYS',\n",
    "    'University of Texas at Arlington (UTA) (UT Arlington)': 'UTA',\n",
    "    'University of Texas at Austin (UT) (UT Austin)': 'UTAus',\n",
    "    'University of Texas at Austin Dell Medical School': 'UTAus',\n",
    "    'University of Texas at Dallas (UTD) (UT Dallas)': 'UTD',\n",
    "    'University of Texas at El Paso (UTEP)': 'UTEP',\n",
    "    'University of Texas at San Antonio': 'UTSA',\n",
    "    'University of Texas Health Science Center at Houston': 'UTHSC-H',\n",
    "    'University of Texas Health Science Center at San Antonio': 'UTHSC-SA',\n",
    "    'University of Texas Health Science Center at Tyler': 'UTT',\n",
    "    'University of Texas MD Anderson Cancer Center': 'UTMDA',\n",
    "    'University of Texas Medical Branch at Galveston': 'UTMB',\n",
    "    'University of Texas Permian Basin': 'UTPB',\n",
    "    'University of Texas Rio Grande Valley': 'UTRGV',\n",
    "    'University of Texas Southwestern Medical Center (UTSW) (UT Southwestern)': 'UTSW',\n",
    "    'University of Texas System': 'UTSYS',\n",
    "    'University of Texas Tyler': 'UTT',\n",
    "}"
   ]
  },
  {
   "cell_type": "code",
   "execution_count": 4,
   "metadata": {},
   "outputs": [],
   "source": [
    "df = workbook['utrc_individual_user_hpc_usage']\n",
    "for i in range(len(df)):\n",
    "        df.loc[i, \"root_institution_name\"] = INSTITUTIONS[df.loc[i, \"root_institution_name\"]]"
   ]
  },
  {
   "cell_type": "code",
   "execution_count": 5,
   "metadata": {},
   "outputs": [],
   "source": [
    "months = ['Jan', 'Feb', 'Mar', 'Apr', 'May', 'June', 'July', 'Aug', 'Sep', 'Oct', 'Nov', 'Dec']\n",
    "count = 0\n",
    "for i in range(df.shape[0]):\n",
    "    df.loc[i, 'date'] = months[count]\n",
    "    count += 1\n",
    "    if count == 12:\n",
    "        count = 0"
   ]
  },
  {
   "cell_type": "code",
   "execution_count": 6,
   "metadata": {},
   "outputs": [],
   "source": [
    "df.sort_index(inplace=True)"
   ]
  },
  {
   "cell_type": "code",
   "execution_count": 7,
   "metadata": {},
   "outputs": [],
   "source": [
    "inst_grps = df.groupby(['root_institution_name'])"
   ]
  },
  {
   "cell_type": "code",
   "execution_count": 39,
   "metadata": {},
   "outputs": [
    {
     "data": {
      "text/plain": [
       "67.41666666666667"
      ]
     },
     "execution_count": 39,
     "metadata": {},
     "output_type": "execute_result"
    }
   ],
   "source": [
    "inst_grps.get_group('UTAus')['date'].value_counts().mean()"
   ]
  },
  {
   "cell_type": "code",
   "execution_count": null,
   "metadata": {},
   "outputs": [],
   "source": []
  },
  {
   "cell_type": "code",
   "execution_count": null,
   "metadata": {},
   "outputs": [],
   "source": []
  }
 ],
 "metadata": {
  "kernelspec": {
   "display_name": "Python 3",
   "language": "python",
   "name": "python3"
  },
  "language_info": {
   "codemirror_mode": {
    "name": "ipython",
    "version": 3
   },
   "file_extension": ".py",
   "mimetype": "text/x-python",
   "name": "python",
   "nbconvert_exporter": "python",
   "pygments_lexer": "ipython3",
   "version": "3.7.3"
  }
 },
 "nbformat": 4,
 "nbformat_minor": 5
}
